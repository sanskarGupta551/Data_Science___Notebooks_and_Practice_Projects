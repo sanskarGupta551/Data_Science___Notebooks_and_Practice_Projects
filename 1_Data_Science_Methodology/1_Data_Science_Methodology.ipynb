{
 "cells": [
  {
   "cell_type": "markdown",
   "metadata": {},
   "source": [
    "# **`Data Science Methodology` - Topic**"
   ]
  },
  {
   "cell_type": "markdown",
   "metadata": {},
   "source": [
    "* [Data Science](#10)\n",
    "* [Data Science Methodology](#11)\n",
    "    1. [Business Understanding: Asking Questions](#1)\n",
    "    2. [Analytical Approach: Identifying the Pattern to Address the Question](#2)\n",
    "    3. [Data Requirement and Collection](#3)\n",
    "    4. [Data Understanding and Preparation](#4)\n",
    "    5. [Modelling and Evaluation](#5)\n",
    "    6. [Deployment and Feedback](#6)\n",
    "* [Data Science Methodology - Additional Facts and Discussion](#7)"
   ]
  },
  {
   "cell_type": "markdown",
   "metadata": {},
   "source": [
    "## **Data Science** <a id=\"10\"></a>\n",
    "\n",
    "> `Data Science` is the study of extracting useful insights from data using scientific methods, statistical techniques, and computational algorithms.\n",
    "\n",
    "* `Data Science` involves the process of `collecting`, `analyzing`, and `interpreting` large amounts of `data` to find patterns, `insights`, and trends. \n",
    "\n",
    "* These `insights` are then used to make data-driven `decisions`.\n",
    "\n",
    "<img src=\"https://www.icertglobal.com/images/0What-is-Data-Science.docx.jpg\" alt=\"Image\" width=\"1080\" height=\"560\">\n",
    "\n",
    "***"
   ]
  },
  {
   "cell_type": "markdown",
   "metadata": {},
   "source": [
    "## **Data Science Methodology** <a id=\"10\"></a>\n",
    "\n",
    "> `Data Science Methodology` is a structured approach used to solve complex problems using data. It guides data scientists and business analysts through a series of steps to find solutions.\n",
    "\n",
    "![Image](https://miro.medium.com/max/2916/1*YPsZO50dIiEKpW9RqzqsTw.jpeg)\n",
    "\n",
    "* Explore below each step in `Data Science Methodology` :-"
   ]
  },
  {
   "cell_type": "markdown",
   "metadata": {},
   "source": [
    "***"
   ]
  },
  {
   "cell_type": "markdown",
   "metadata": {},
   "source": [
    "### **1. Business Understanding: Asking Questions** <a id=\"1\"></a>\n",
    "\n",
    "* In the `Business Understanding` stage of the Data Science methodology, we focus on gaining a `clear understanding` of the business context and objectives.\n",
    "\n",
    "##### **Define Objectives**\n",
    "\n",
    "* Collaborate with stakeholders (including customers) to understand and identify business problems.\n",
    "\n",
    "* Formulate precise and relevant questions that define the goals of the data science project.\n",
    "\n",
    "* These questions serve as the foundation for the subsequent analysis.\n",
    "\n",
    "'''\n",
    "\n",
    "![Image](https://cf-courses-data.s3.us.cloud-object-storage.appdomain.cloud/IBMSkillsNetwork-DS0103EN-Coursera/images/200512.14%20Lesson%20Summary%20Part%201%20Infographic%20-%20Business%20Understanding.png)\n",
    "\n",
    "***"
   ]
  },
  {
   "cell_type": "markdown",
   "metadata": {},
   "source": [
    "### **2. Analytical Approach: Identifying the Pattern to Address the Question** <a id=\"2\"></a>\n",
    "\n",
    "* In the `Data Science methodology`, the `Analytical Approach` is a crucial step where we determine `how to address` the specific question or `problem` at hand.\n",
    "\n",
    "##### **Business Understanding**\n",
    "\n",
    "* Before diving into analytics, we must understand the business context thoroughly.\n",
    "\n",
    "* Define the precise problem we aim to solve.\n",
    "\n",
    "* Collaborate with stakeholders to grasp the business objectives.\n",
    "\n",
    "'''\n",
    "\n",
    "![Image](https://cf-courses-data.s3.us.cloud-object-storage.appdomain.cloud/IBMSkillsNetwork-DS0103EN-Coursera/images/200512.14%20Lesson%20Summary%20Part%202%20Infographic%20-%20Analytical%20Approach.png)\n",
    "\n",
    "***"
   ]
  },
  {
   "cell_type": "markdown",
   "metadata": {},
   "source": [
    "### **3. Data Requirement and Collection** <a id=\"3\"></a>\n",
    "\n",
    "* In the `Data Science methodology`, the `Data Requirement and Collection` stage is crucial for `obtaining` the necessary `data` to address the business problem effectively.\n",
    "\n",
    "##### **Data Requirements**\n",
    "\n",
    "* Data requirements refer to understanding what data is needed to solve the specific problem faced by the business.\n",
    "\n",
    "##### **Data Collection Methods**\n",
    "\n",
    "* Surveys: Gather information directly from respondents.\n",
    "\n",
    "* Observations: Record data by observing events or behaviors.\n",
    "\n",
    "* Existing Databases: Utilize data from existing sources.\n",
    "\n",
    "* Web Scraping: Extract data from websites.\n",
    "\n",
    "* Sensor Data: Collect data from sensors or IoT devices.\n",
    "\n",
    "* Social Media: Analyze data from social platforms.\n",
    "\n",
    "'''\n",
    "\n",
    "![Image](https://cf-courses-data.s3.us.cloud-object-storage.appdomain.cloud/IBMSkillsNetwork-DS0103EN-Coursera/images/200512.22%20Lesson%20Summary%20Infographic%20-%20Data%20Requirement%20and%20Collection.png)\n",
    "\n",
    "***"
   ]
  },
  {
   "cell_type": "markdown",
   "metadata": {},
   "source": [
    "### **4. Data Understanding and Preparation** <a id=\"4\"></a>\n",
    "\n",
    "* In `Data Understanding` stage, the data science team focuses on identifying and exploring the data required for analysis.\n",
    "\n",
    "##### **Key activities**\n",
    "\n",
    "* Exploratory Data Analysis (EDA): Understand the data’s structure, quality, and completeness.\n",
    "\n",
    "* Data Profiling: Summarize key statistics (mean, median, etc.) and visualize data distributions.\n",
    "\n",
    "* Data Visualization: Create plots, histograms, and scatter plots to reveal patterns.\n",
    "\n",
    "'''\n",
    "\n",
    "* This `Data Preparation` stage involves `cleaning`, `transforming`, and `organizing` the `data` for analysis.\n",
    "\n",
    "##### **Key activities**\n",
    "\n",
    "* Data Cleaning\n",
    "\n",
    "* Feature Engineering\n",
    "\n",
    "* Data Transformation\n",
    "\n",
    "* Data Splitting\n",
    "\n",
    "'''\n",
    "\n",
    "![Image](https://cf-courses-data.s3.us.cloud-object-storage.appdomain.cloud/IBMSkillsNetwork-DS0103EN-Coursera/images/4%20data%20nderstanding%20and%20preparation.png)\n",
    "\n",
    "***"
   ]
  },
  {
   "cell_type": "markdown",
   "metadata": {},
   "source": [
    "### **5. Modelling and Evaluation** <a id=\"5\"></a>\n",
    "\n",
    "* `Modeling and Evaluation` are pivotal steps in the data science journey. They ensure that our `models` are well-seasoned and ready to address `real-world challenges`.\n",
    "\n",
    "##### **Descriptive vs. Predictive Models**\n",
    "\n",
    "* `Descriptive Models`: Describe existing patterns (e.g., preferences based on historical data).\n",
    "\n",
    "* `Predictive Models`: Attempt to predict outcomes (e.g., yes/no results or stop/continue decisions).\n",
    "\n",
    "##### **Evaluation**\n",
    "\n",
    "* Done during model development.\n",
    "\n",
    "* Assess the quality of the model and whether it meets business requirements.\n",
    "\n",
    "* Metrics (e.g., accuracy, precision, recall) help gauge model performance.\n",
    "\n",
    "'''\n",
    "\n",
    "![Image](https://cf-courses-data.s3.us.cloud-object-storage.appdomain.cloud/IBMSkillsNetwork-DS0103EN-Coursera/images/Model%20to%20Evaluation.png)\n",
    "\n",
    "***"
   ]
  },
  {
   "cell_type": "markdown",
   "metadata": {},
   "source": [
    "### **6. Deployment and Feedback** <a id=\"6\"></a>\n",
    "\n",
    "* `Deployment` involves taking the data science model from the development environment and integrating it into the `production environment`.\n",
    "\n",
    "* `Feedback` is essential for refining the model and `assessing` its `performance` and impact.\n",
    "\n",
    "##### **Iteration**\n",
    "\n",
    "* Continuous Process: Deployment and feedback are iterative.\n",
    "\n",
    "* Refine and Redeploy: Use feedback to enhance the model iteratively.\n",
    "\n",
    "* Final Model: Continue this cycle until you have a mature, reliable model.\n",
    "\n",
    "'''\n",
    "\n",
    "![Image](https://cf-courses-data.s3.us.cloud-object-storage.appdomain.cloud/IBMSkillsNetwork-DS0103EN-Coursera/images/M3L1-deployment-to%20feedback.png)\n",
    "\n",
    "***"
   ]
  },
  {
   "cell_type": "markdown",
   "metadata": {},
   "source": [
    "## **Data Science Methodology - Additional Facts and Discussion** <a id=\"7\"></a>\n",
    "\n",
    "Here are 14 key, high-level takeaway facts to know - \n",
    "\n",
    "* `Foundational methodology`, a cyclical, iterative data science methodology developed by John Rollins, consists of 10 stages, starting with Business Understanding and ending with Feedback.\n",
    "\n",
    "* `CRISP-DM`, an open source data methodology, combines several data-related methodology stages into one stage and omits the Feedback stage resulting in a six-stage data methodology.\n",
    "\n",
    "* The primary goal of the `Business Understanding` stage is to understand the business problem and determine the data needed to answer the core business question. \n",
    "\n",
    "* During the `Analytic Approach` stage, you can choose from descriptive diagnostic, predictive, and prescriptive analytic approaches and whether to use machine learning techniques.\n",
    "\n",
    "* During the `Data Requirements` stage, scientists identify the correct and necessary data content, formats, and sources needed for the specific analytical approach.\n",
    "\n",
    "* During the `Data Collection` stage, expert data scientists revise data requirements and make critical decisions regarding the quantity and quality of data. Data scientists apply descriptive statistics and visualization techniques to thoroughly assess the content, quality, and initial insights gained from the collected data, identify gaps, and determine if new data is needed, or if they should substitute existing data.\n",
    "\n",
    "* The `Data Understanding` stage encompasses all activities related to constructing the data set. This stage answers the question of whether the collected data represents the data needed to solve the business problem. Data scientists might use descriptive statistics, predictive statistics, or both.\n",
    "\n",
    "* Data scientists commonly apply `Hurst`, `univariates`, and `statistics` such as mean, median, minimum, maximum, standard deviation, pairwise correlation, and histograms. \n",
    "\n",
    "* During the `Data Preparation` stage, data scientists must address missing or invalid values, remove duplicates, and validate that the data is properly formatted. Feature engineering and text analysis are key techniques data scientists apply to validate and analyze data during the Data Preparation stage.\n",
    "\n",
    "* The end goal of the `Modeling` stage is that the data model answers the business question. During the Modeling stage, data scientists use a training data set. Data scientists test multiple algorithms on the training set data to determine whether the variables are required and whether the data supports answering the business question. The outcome of those models is either descriptive or predictive. \n",
    "\n",
    "* The `Evaluation` stage consists of two phases, the diagnostic measures phase, and the statistical significance phase. Data scientists and others assess the quality of the model and determine if the model answers the initial Business Understanding question or if the data model needs adjustment. \n",
    "\n",
    "* During the `Deployment` stage, data scientists release the data model to a targeted group of stakeholders, including solution owners, marketing staff, application developers, and IT administration., \n",
    "\n",
    "* During the `Feedback` stage, stakeholders and users evaluate the model and contribute feedback to assess the model’s performance. \n",
    "\n",
    "* The data model’s value depends on its ability to iterate; that is, how successfully the data `model` incorporates `user feedback`."
   ]
  },
  {
   "cell_type": "markdown",
   "metadata": {},
   "source": [
    "***\n",
    "***"
   ]
  },
  {
   "cell_type": "code",
   "execution_count": null,
   "metadata": {},
   "outputs": [],
   "source": []
  }
 ],
 "metadata": {
  "language_info": {
   "name": "python"
  }
 },
 "nbformat": 4,
 "nbformat_minor": 2
}
